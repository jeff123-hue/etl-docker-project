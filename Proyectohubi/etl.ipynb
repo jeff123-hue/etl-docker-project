{
 "cells": [
  {
   "cell_type": "code",
   "execution_count": 13,
   "id": "9baea603-5846-487a-8be0-0414b0261390",
   "metadata": {},
   "outputs": [
    {
     "name": "stdout",
     "output_type": "stream",
     "text": [
      "Requirement already satisfied: mysql-connector-python in c:\\programdata\\anaconda3\\lib\\site-packages (9.2.0)\n",
      "Requirement already satisfied: xmltodict in c:\\programdata\\anaconda3\\lib\\site-packages (0.14.2)\n",
      "Requirement already satisfied: pandas in c:\\programdata\\anaconda3\\lib\\site-packages (2.2.2)\n",
      "Requirement already satisfied: numpy>=1.26.0 in c:\\programdata\\anaconda3\\lib\\site-packages (from pandas) (1.26.4)\n",
      "Requirement already satisfied: python-dateutil>=2.8.2 in c:\\programdata\\anaconda3\\lib\\site-packages (from pandas) (2.9.0.post0)\n",
      "Requirement already satisfied: pytz>=2020.1 in c:\\programdata\\anaconda3\\lib\\site-packages (from pandas) (2024.1)\n",
      "Requirement already satisfied: tzdata>=2022.7 in c:\\programdata\\anaconda3\\lib\\site-packages (from pandas) (2023.3)\n",
      "Requirement already satisfied: six>=1.5 in c:\\programdata\\anaconda3\\lib\\site-packages (from python-dateutil>=2.8.2->pandas) (1.16.0)\n"
     ]
    }
   ],
   "source": [
    "!pip install mysql-connector-python xmltodict pandas"
   ]
  },
  {
   "cell_type": "code",
   "execution_count": 44,
   "id": "d5c6114e-66ce-4290-ae51-64ad0f77caae",
   "metadata": {},
   "outputs": [],
   "source": [
    "import xmltodict\n",
    "import pandas as pd\n",
    "import mysql.connector\n",
    "from mysql.connector import Error\n",
    "\n",
    "# Configuración de conexión a la base de datos\n",
    "DB_CONFIG = {\n",
    "    'host': 'localhost',  # Cambia esto si tu base de datos está en un contenedor\n",
    "    'user': 'root',\n",
    "    'password': 'root123',  # Usa tu contraseña\n",
    "    'database': 'realestatedb'  # Nombre de la base de datos actualizado\n",
    "}\n",
    "\n",
    "# Función para leer y procesar el archivo XML\n",
    "def read_and_process_xml(file_path):\n",
    "    print(f\"Leyendo archivo XML: {file_path}...\")\n",
    "    with open(file_path, 'r', encoding='utf-8') as file:\n",
    "        data = xmltodict.parse(file.read())\n",
    "\n",
    "    # Imprimir la estructura del XML para depurar\n",
    "    print(data)\n",
    "\n",
    "    # Extraer datos relevantes\n",
    "    users = []\n",
    "    properties = []\n",
    "\n",
    "    # Iterar sobre las propiedades en el archivo XML\n",
    "    for item in data['data']['listing']:\n",
    "        # Propiedad\n",
    "        properties.append({\n",
    "            'estado': item['state'],\n",
    "            'ciudad': item['city'],\n",
    "            'colonia': item['colony'],\n",
    "            'calle': item['street'],\n",
    "            'numero_exterior': item['external_num'] if item['external_num'] != 'null' else None,\n",
    "            'tipo_inmueble': item['type'],\n",
    "            'transaccion': item['purpose'],\n",
    "            'precio': float(item['price']),\n",
    "            'codigo_proveedor': item['code'],\n",
    "            'correo_contacto': item['mail_contact'],\n",
    "            'telefono_contacto': item['phone_contact'],\n",
    "        })\n",
    "\n",
    "        # Usuario (correo de contacto)\n",
    "        users.append({'correo_contacto': item['mail_contact']})\n",
    "\n",
    "    # Convertir listas a DataFrames\n",
    "    df_users = pd.DataFrame(users).drop_duplicates()\n",
    "    df_properties = pd.DataFrame(properties)\n",
    "\n",
    "    print(\"Datos procesados:\")\n",
    "    print(f\"Usuarios: {len(df_users)}\")\n",
    "    print(f\"Propiedades: {len(df_properties)}\")\n",
    "\n",
    "    return df_users, df_properties"
   ]
  },
  {
   "cell_type": "code",
   "execution_count": 45,
   "id": "d865a433-f1de-405c-bab4-02a38d4fd572",
   "metadata": {},
   "outputs": [],
   "source": [
    "# Función para cargar datos en la base de datos MySQL\n",
    "def load_to_mysql(df_users, df_properties):\n",
    "    print(\"Cargando datos en la base de datos MySQL...\")\n",
    "    try:\n",
    "        connection = mysql.connector.connect(**DB_CONFIG)\n",
    "        if connection.is_connected():\n",
    "            cursor = connection.cursor()\n",
    "\n",
    "            # Insertar usuarios\n",
    "            for _, row in df_users.iterrows():\n",
    "                cursor.execute(\"\"\"\n",
    "                    INSERT IGNORE INTO usuarios (correo_contacto)\n",
    "                    VALUES (%s)\n",
    "                \"\"\", (row['correo_contacto'],))\n",
    "\n",
    "            # Insertar propiedades\n",
    "            for _, row in df_properties.iterrows():\n",
    "                cursor.execute(\"\"\"\n",
    "                    INSERT INTO propiedades (\n",
    "                        estado, ciudad, colonia, calle, numero_exterior,\n",
    "                        tipo_inmueble, transaccion, precio, codigo_proveedor,\n",
    "                        correo_contacto, telefono_contacto\n",
    "                    ) VALUES (%s, %s, %s, %s, %s, %s, %s, %s, %s, %s, %s)\n",
    "                \"\"\", (\n",
    "                    row['estado'], row['ciudad'], row['colonia'], row['calle'],\n",
    "                    row['numero_exterior'], row['tipo_inmueble'],\n",
    "                    row['transaccion'], row['precio'], row['codigo_proveedor'],\n",
    "                    row['correo_contacto'], row['telefono_contacto']\n",
    "                ))\n",
    "\n",
    "            # Confirmar los cambios\n",
    "            connection.commit()\n",
    "            print(\"Datos cargados exitosamente en la base de datos.\")\n",
    "    except Error as e:\n",
    "        print(f\"Error al conectar a MySQL: {e}\")\n",
    "    finally:\n",
    "        if connection.is_connected():\n",
    "            cursor.close()\n",
    "            connection.close()"
   ]
  },
  {
   "cell_type": "code",
   "execution_count": 46,
   "id": "a2b10dd7-cb64-4f12-979a-fc68a8e8a13b",
   "metadata": {},
   "outputs": [
    {
     "name": "stdout",
     "output_type": "stream",
     "text": [
      "Iniciando proceso ETL...\n",
      "Leyendo archivo XML: C:\\Users\\Estudiante\\Documents\\Proyectohubi\\feed.xml...\n"
     ]
    },
    {
     "name": "stderr",
     "output_type": "stream",
     "text": [
      "IOPub data rate exceeded.\n",
      "The Jupyter server will temporarily stop sending output\n",
      "to the client in order to avoid crashing it.\n",
      "To change this limit, set the config variable\n",
      "`--ServerApp.iopub_data_rate_limit`.\n",
      "\n",
      "Current values:\n",
      "ServerApp.iopub_data_rate_limit=1000000.0 (bytes/sec)\n",
      "ServerApp.rate_limit_window=3.0 (secs)\n",
      "\n"
     ]
    },
    {
     "name": "stdout",
     "output_type": "stream",
     "text": [
      "Datos procesados:\n",
      "Usuarios: 9481\n",
      "Propiedades: 30000\n",
      "Cargando datos a MySQL...\n",
      "Cargando datos en la base de datos MySQL...\n",
      "Datos cargados exitosamente en la base de datos.\n",
      "Proceso ETL completado.\n"
     ]
    }
   ],
   "source": [
    "# Ruta al archivo XML (ajustada para Windows)\n",
    "file_path = r'C:\\Users\\Estudiante\\Documents\\Proyectohubi\\feed.xml'  # Ruta del archivo\n",
    "\n",
    "# Iniciar el proceso ETL\n",
    "print(\"Iniciando proceso ETL...\")\n",
    "df_users, df_properties = read_and_process_xml(file_path)\n",
    "\n",
    "# Cargar los datos a MySQL\n",
    "print(\"Cargando datos a MySQL...\")\n",
    "load_to_mysql(df_users, df_properties)\n",
    "\n",
    "print(\"Proceso ETL completado.\")"
   ]
  },
  {
   "cell_type": "code",
   "execution_count": null,
   "id": "ec9de9ca-c057-4c55-b608-ca79e42117b1",
   "metadata": {},
   "outputs": [],
   "source": []
  }
 ],
 "metadata": {
  "kernelspec": {
   "display_name": "Python 3 (ipykernel)",
   "language": "python",
   "name": "python3"
  },
  "language_info": {
   "codemirror_mode": {
    "name": "ipython",
    "version": 3
   },
   "file_extension": ".py",
   "mimetype": "text/x-python",
   "name": "python",
   "nbconvert_exporter": "python",
   "pygments_lexer": "ipython3",
   "version": "3.12.7"
  }
 },
 "nbformat": 4,
 "nbformat_minor": 5
}
